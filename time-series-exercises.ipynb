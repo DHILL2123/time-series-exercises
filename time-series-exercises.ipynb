{
 "cells": [
  {
   "cell_type": "code",
   "execution_count": 1,
   "id": "d86cdba7",
   "metadata": {},
   "outputs": [],
   "source": [
    "import requests\n",
    "#import warnings\n",
    "#warnings.filterwarnings('ignore')\n",
    "import pandas as pd\n",
    "import numpy as np\n",
    "import matplotlib as plt\n",
    "import matplotlib.pyplot as plt\n",
    "import seaborn as sns\n",
    "import math"
   ]
  },
  {
   "cell_type": "markdown",
   "id": "18271e14",
   "metadata": {},
   "source": [
    "# Making HTTPS Request"
   ]
  },
  {
   "cell_type": "code",
   "execution_count": 2,
   "id": "992002b2",
   "metadata": {},
   "outputs": [
    {
     "data": {
      "text/plain": [
       "<Response [200]>"
      ]
     },
     "execution_count": 2,
     "metadata": {},
     "output_type": "execute_result"
    }
   ],
   "source": [
    "# https://aphorisms.glitch.me returns a random quotation\n",
    "response = requests.get('http://aphorisms.glitch.me/')\n",
    "response\n"
   ]
  },
  {
   "cell_type": "code",
   "execution_count": 3,
   "id": "4455743d",
   "metadata": {},
   "outputs": [
    {
     "data": {
      "text/plain": [
       "True"
      ]
     },
     "execution_count": 3,
     "metadata": {},
     "output_type": "execute_result"
    }
   ],
   "source": [
    "response.ok\n"
   ]
  },
  {
   "cell_type": "code",
   "execution_count": 4,
   "id": "816aa7b7",
   "metadata": {},
   "outputs": [
    {
     "data": {
      "text/plain": [
       "200"
      ]
     },
     "execution_count": 4,
     "metadata": {},
     "output_type": "execute_result"
    }
   ],
   "source": [
    "response.status_code"
   ]
  },
  {
   "cell_type": "code",
   "execution_count": 5,
   "id": "398ee6e1",
   "metadata": {},
   "outputs": [
    {
     "data": {
      "text/plain": [
       "'{\"quote\":\"Learning a skill requires practicing that skill\",\"author\":\"Luis Montealegre\"}'"
      ]
     },
     "execution_count": 5,
     "metadata": {},
     "output_type": "execute_result"
    }
   ],
   "source": [
    "response.text"
   ]
  },
  {
   "cell_type": "markdown",
   "id": "daf3df78",
   "metadata": {},
   "source": [
    "# Interacting with JSON"
   ]
  },
  {
   "cell_type": "markdown",
   "id": "c8591e17",
   "metadata": {},
   "source": [
    "* Here we see that the repsonse we got back contains a JSON object (we could also verify this by visiting the URL in a web browser)."
   ]
  },
  {
   "cell_type": "code",
   "execution_count": 6,
   "id": "3e6621f1",
   "metadata": {},
   "outputs": [
    {
     "name": "stdout",
     "output_type": "stream",
     "text": [
      "{\"name\":\"Leia Organa\",\"height\":\"150\",\"mass\":\"49\",\"hair_color\":\"brown\",\"skin_color\":\"light\",\"eye_color\":\"brown\",\"birth_year\":\"19BBY\",\"gender\":\"female\",\"homeworld\":\"https://swapi.dev/api/planets/2/\",\"films\":[\"https://swapi.dev/api/films/1/\",\"https://swapi.dev/api/films/2/\",\"https://swapi.dev/api/films/3/\",\"https://swapi.dev/api/films/6/\"],\"species\":[],\"vehicles\":[\"https://swapi.dev/api/vehicles/30/\"],\"starships\":[],\"created\":\"2014-12-10T15:20:09.791000Z\",\"edited\":\"2014-12-20T21:17:50.315000Z\",\"url\":\"https://swapi.dev/api/people/5/\"}\n"
     ]
    }
   ],
   "source": [
    "url = 'https://swapi.dev/api/people/5'\n",
    "response = requests.get(url)\n",
    "print(response.text)"
   ]
  },
  {
   "cell_type": "markdown",
   "id": "d4fc3a89",
   "metadata": {},
   "source": [
    "* Since the response is JSON, we can use the .json method on the response object to get a data structure we can work with:"
   ]
  },
  {
   "cell_type": "code",
   "execution_count": 7,
   "id": "1bfbfbd9",
   "metadata": {},
   "outputs": [
    {
     "name": "stdout",
     "output_type": "stream",
     "text": [
      "<class 'dict'>\n"
     ]
    },
    {
     "data": {
      "text/plain": [
       "{'name': 'Leia Organa',\n",
       " 'height': '150',\n",
       " 'mass': '49',\n",
       " 'hair_color': 'brown',\n",
       " 'skin_color': 'light',\n",
       " 'eye_color': 'brown',\n",
       " 'birth_year': '19BBY',\n",
       " 'gender': 'female',\n",
       " 'homeworld': 'https://swapi.dev/api/planets/2/',\n",
       " 'films': ['https://swapi.dev/api/films/1/',\n",
       "  'https://swapi.dev/api/films/2/',\n",
       "  'https://swapi.dev/api/films/3/',\n",
       "  'https://swapi.dev/api/films/6/'],\n",
       " 'species': [],\n",
       " 'vehicles': ['https://swapi.dev/api/vehicles/30/'],\n",
       " 'starships': [],\n",
       " 'created': '2014-12-10T15:20:09.791000Z',\n",
       " 'edited': '2014-12-20T21:17:50.315000Z',\n",
       " 'url': 'https://swapi.dev/api/people/5/'}"
      ]
     },
     "execution_count": 7,
     "metadata": {},
     "output_type": "execute_result"
    }
   ],
   "source": [
    "data = response.json()\n",
    "print(type(data))\n",
    "data"
   ]
  },
  {
   "cell_type": "markdown",
   "id": "1182193d",
   "metadata": {},
   "source": [
    "* Now we have a dictionary that we can work with.\n",
    "\n",
    "* This API provides the availabe resources when we call the root url, so let's make a request so that we can take a look at it."
   ]
  },
  {
   "cell_type": "code",
   "execution_count": 8,
   "id": "efa4b487",
   "metadata": {},
   "outputs": [
    {
     "name": "stdout",
     "output_type": "stream",
     "text": [
      "<Response [200]>\n"
     ]
    },
    {
     "data": {
      "text/plain": [
       "{'people': 'https://swapi.dev/api/people/',\n",
       " 'planets': 'https://swapi.dev/api/planets/',\n",
       " 'films': 'https://swapi.dev/api/films/',\n",
       " 'species': 'https://swapi.dev/api/species/',\n",
       " 'vehicles': 'https://swapi.dev/api/vehicles/',\n",
       " 'starships': 'https://swapi.dev/api/starships/'}"
      ]
     },
     "execution_count": 8,
     "metadata": {},
     "output_type": "execute_result"
    }
   ],
   "source": [
    "root_url = 'https://swapi.dev/api/'\n",
    "response = requests.get(root_url)\n",
    "print(response)\n",
    "response.json()"
   ]
  },
  {
   "cell_type": "markdown",
   "id": "23a87a76",
   "metadata": {},
   "source": [
    "* Based on this, let's take a look at the people. We'll make our request, and explore the shape of the response that we get back."
   ]
  },
  {
   "cell_type": "code",
   "execution_count": 9,
   "id": "1bbfbc4a",
   "metadata": {},
   "outputs": [
    {
     "data": {
      "text/plain": [
       "dict_keys(['count', 'next', 'previous', 'results'])"
      ]
     },
     "execution_count": 9,
     "metadata": {},
     "output_type": "execute_result"
    }
   ],
   "source": [
    "response = requests.get('https://swapi.dev/api/people/')\n",
    "data = response.json()\n",
    "data.keys()\n"
   ]
  },
  {
   "cell_type": "markdown",
   "id": "6c81f0dc",
   "metadata": {},
   "source": [
    "# People "
   ]
  },
  {
   "cell_type": "code",
   "execution_count": 10,
   "id": "1ab1a201",
   "metadata": {},
   "outputs": [
    {
     "name": "stdout",
     "output_type": "stream",
     "text": [
      "number_of_people: 82\n",
      "next_page: https://swapi.dev/api/people/?page=2\n",
      "previous_page: None\n"
     ]
    }
   ],
   "source": [
    "number_of_people = data['count']\n",
    "next_page = data['next']\n",
    "previous_page = data['previous']\n",
    "\n",
    "print(f'number_of_people: {number_of_people}')\n",
    "print(f'next_page: {next_page}')\n",
    "print(f'previous_page: {previous_page}')"
   ]
  },
  {
   "cell_type": "markdown",
   "id": "a364ef10",
   "metadata": {},
   "source": [
    "* Here the response has some built-in properties that tell us how to get the next page and the previous one. We can see that this API uses an addon to the end of the url that allows us to pick which page of results we want to look at.\n",
    "\n",
    "* Once we've drilled down into the data structure, we'll find that the entire response is a sort of wrapper around the results property:"
   ]
  },
  {
   "cell_type": "code",
   "execution_count": 11,
   "id": "f163081d",
   "metadata": {},
   "outputs": [
    {
     "data": {
      "text/plain": [
       "[{'name': 'Luke Skywalker',\n",
       "  'height': '172',\n",
       "  'mass': '77',\n",
       "  'hair_color': 'blond',\n",
       "  'skin_color': 'fair',\n",
       "  'eye_color': 'blue',\n",
       "  'birth_year': '19BBY',\n",
       "  'gender': 'male',\n",
       "  'homeworld': 'https://swapi.dev/api/planets/1/',\n",
       "  'films': ['https://swapi.dev/api/films/1/',\n",
       "   'https://swapi.dev/api/films/2/',\n",
       "   'https://swapi.dev/api/films/3/',\n",
       "   'https://swapi.dev/api/films/6/'],\n",
       "  'species': [],\n",
       "  'vehicles': ['https://swapi.dev/api/vehicles/14/',\n",
       "   'https://swapi.dev/api/vehicles/30/'],\n",
       "  'starships': ['https://swapi.dev/api/starships/12/',\n",
       "   'https://swapi.dev/api/starships/22/'],\n",
       "  'created': '2014-12-09T13:50:51.644000Z',\n",
       "  'edited': '2014-12-20T21:17:56.891000Z',\n",
       "  'url': 'https://swapi.dev/api/people/1/'},\n",
       " {'name': 'C-3PO',\n",
       "  'height': '167',\n",
       "  'mass': '75',\n",
       "  'hair_color': 'n/a',\n",
       "  'skin_color': 'gold',\n",
       "  'eye_color': 'yellow',\n",
       "  'birth_year': '112BBY',\n",
       "  'gender': 'n/a',\n",
       "  'homeworld': 'https://swapi.dev/api/planets/1/',\n",
       "  'films': ['https://swapi.dev/api/films/1/',\n",
       "   'https://swapi.dev/api/films/2/',\n",
       "   'https://swapi.dev/api/films/3/',\n",
       "   'https://swapi.dev/api/films/4/',\n",
       "   'https://swapi.dev/api/films/5/',\n",
       "   'https://swapi.dev/api/films/6/'],\n",
       "  'species': ['https://swapi.dev/api/species/2/'],\n",
       "  'vehicles': [],\n",
       "  'starships': [],\n",
       "  'created': '2014-12-10T15:10:51.357000Z',\n",
       "  'edited': '2014-12-20T21:17:50.309000Z',\n",
       "  'url': 'https://swapi.dev/api/people/2/'}]"
      ]
     },
     "execution_count": 11,
     "metadata": {},
     "output_type": "execute_result"
    }
   ],
   "source": [
    "data['results'][:2]"
   ]
  },
  {
   "cell_type": "markdown",
   "id": "17b97e72",
   "metadata": {},
   "source": [
    "* So we should be able to use the count of people and number of results to calculate what the last page number would be."
   ]
  },
  {
   "cell_type": "code",
   "execution_count": 12,
   "id": "98330fbe",
   "metadata": {},
   "outputs": [
    {
     "name": "stdout",
     "output_type": "stream",
     "text": [
      "number_of_results: 10\n",
      "max_page: 9\n"
     ]
    }
   ],
   "source": [
    "number_of_results = len(data['results'])\n",
    "max_page = math.ceil(number_of_people / number_of_results)\n",
    "\n",
    "print(f'number_of_results: {number_of_results}')\n",
    "print(f'max_page: {max_page}')\n"
   ]
  },
  {
   "cell_type": "markdown",
   "id": "1d7a9ce6",
   "metadata": {},
   "source": [
    "* We can also turn results data into a pandas dataframe:"
   ]
  },
  {
   "cell_type": "code",
   "execution_count": 13,
   "id": "e7fc34d1",
   "metadata": {},
   "outputs": [
    {
     "data": {
      "text/html": [
       "<div>\n",
       "<style scoped>\n",
       "    .dataframe tbody tr th:only-of-type {\n",
       "        vertical-align: middle;\n",
       "    }\n",
       "\n",
       "    .dataframe tbody tr th {\n",
       "        vertical-align: top;\n",
       "    }\n",
       "\n",
       "    .dataframe thead th {\n",
       "        text-align: right;\n",
       "    }\n",
       "</style>\n",
       "<table border=\"1\" class=\"dataframe\">\n",
       "  <thead>\n",
       "    <tr style=\"text-align: right;\">\n",
       "      <th></th>\n",
       "      <th>name</th>\n",
       "      <th>height</th>\n",
       "      <th>mass</th>\n",
       "      <th>hair_color</th>\n",
       "      <th>skin_color</th>\n",
       "      <th>eye_color</th>\n",
       "      <th>birth_year</th>\n",
       "      <th>gender</th>\n",
       "      <th>homeworld</th>\n",
       "      <th>films</th>\n",
       "      <th>species</th>\n",
       "      <th>vehicles</th>\n",
       "      <th>starships</th>\n",
       "      <th>created</th>\n",
       "      <th>edited</th>\n",
       "      <th>url</th>\n",
       "    </tr>\n",
       "  </thead>\n",
       "  <tbody>\n",
       "    <tr>\n",
       "      <th>0</th>\n",
       "      <td>Luke Skywalker</td>\n",
       "      <td>172</td>\n",
       "      <td>77</td>\n",
       "      <td>blond</td>\n",
       "      <td>fair</td>\n",
       "      <td>blue</td>\n",
       "      <td>19BBY</td>\n",
       "      <td>male</td>\n",
       "      <td>https://swapi.dev/api/planets/1/</td>\n",
       "      <td>[https://swapi.dev/api/films/1/, https://swapi...</td>\n",
       "      <td>[]</td>\n",
       "      <td>[https://swapi.dev/api/vehicles/14/, https://s...</td>\n",
       "      <td>[https://swapi.dev/api/starships/12/, https://...</td>\n",
       "      <td>2014-12-09T13:50:51.644000Z</td>\n",
       "      <td>2014-12-20T21:17:56.891000Z</td>\n",
       "      <td>https://swapi.dev/api/people/1/</td>\n",
       "    </tr>\n",
       "    <tr>\n",
       "      <th>1</th>\n",
       "      <td>C-3PO</td>\n",
       "      <td>167</td>\n",
       "      <td>75</td>\n",
       "      <td>n/a</td>\n",
       "      <td>gold</td>\n",
       "      <td>yellow</td>\n",
       "      <td>112BBY</td>\n",
       "      <td>n/a</td>\n",
       "      <td>https://swapi.dev/api/planets/1/</td>\n",
       "      <td>[https://swapi.dev/api/films/1/, https://swapi...</td>\n",
       "      <td>[https://swapi.dev/api/species/2/]</td>\n",
       "      <td>[]</td>\n",
       "      <td>[]</td>\n",
       "      <td>2014-12-10T15:10:51.357000Z</td>\n",
       "      <td>2014-12-20T21:17:50.309000Z</td>\n",
       "      <td>https://swapi.dev/api/people/2/</td>\n",
       "    </tr>\n",
       "    <tr>\n",
       "      <th>2</th>\n",
       "      <td>R2-D2</td>\n",
       "      <td>96</td>\n",
       "      <td>32</td>\n",
       "      <td>n/a</td>\n",
       "      <td>white, blue</td>\n",
       "      <td>red</td>\n",
       "      <td>33BBY</td>\n",
       "      <td>n/a</td>\n",
       "      <td>https://swapi.dev/api/planets/8/</td>\n",
       "      <td>[https://swapi.dev/api/films/1/, https://swapi...</td>\n",
       "      <td>[https://swapi.dev/api/species/2/]</td>\n",
       "      <td>[]</td>\n",
       "      <td>[]</td>\n",
       "      <td>2014-12-10T15:11:50.376000Z</td>\n",
       "      <td>2014-12-20T21:17:50.311000Z</td>\n",
       "      <td>https://swapi.dev/api/people/3/</td>\n",
       "    </tr>\n",
       "    <tr>\n",
       "      <th>3</th>\n",
       "      <td>Darth Vader</td>\n",
       "      <td>202</td>\n",
       "      <td>136</td>\n",
       "      <td>none</td>\n",
       "      <td>white</td>\n",
       "      <td>yellow</td>\n",
       "      <td>41.9BBY</td>\n",
       "      <td>male</td>\n",
       "      <td>https://swapi.dev/api/planets/1/</td>\n",
       "      <td>[https://swapi.dev/api/films/1/, https://swapi...</td>\n",
       "      <td>[]</td>\n",
       "      <td>[]</td>\n",
       "      <td>[https://swapi.dev/api/starships/13/]</td>\n",
       "      <td>2014-12-10T15:18:20.704000Z</td>\n",
       "      <td>2014-12-20T21:17:50.313000Z</td>\n",
       "      <td>https://swapi.dev/api/people/4/</td>\n",
       "    </tr>\n",
       "    <tr>\n",
       "      <th>4</th>\n",
       "      <td>Leia Organa</td>\n",
       "      <td>150</td>\n",
       "      <td>49</td>\n",
       "      <td>brown</td>\n",
       "      <td>light</td>\n",
       "      <td>brown</td>\n",
       "      <td>19BBY</td>\n",
       "      <td>female</td>\n",
       "      <td>https://swapi.dev/api/planets/2/</td>\n",
       "      <td>[https://swapi.dev/api/films/1/, https://swapi...</td>\n",
       "      <td>[]</td>\n",
       "      <td>[https://swapi.dev/api/vehicles/30/]</td>\n",
       "      <td>[]</td>\n",
       "      <td>2014-12-10T15:20:09.791000Z</td>\n",
       "      <td>2014-12-20T21:17:50.315000Z</td>\n",
       "      <td>https://swapi.dev/api/people/5/</td>\n",
       "    </tr>\n",
       "  </tbody>\n",
       "</table>\n",
       "</div>"
      ],
      "text/plain": [
       "             name height mass hair_color   skin_color eye_color birth_year  \\\n",
       "0  Luke Skywalker    172   77      blond         fair      blue      19BBY   \n",
       "1           C-3PO    167   75        n/a         gold    yellow     112BBY   \n",
       "2           R2-D2     96   32        n/a  white, blue       red      33BBY   \n",
       "3     Darth Vader    202  136       none        white    yellow    41.9BBY   \n",
       "4     Leia Organa    150   49      brown        light     brown      19BBY   \n",
       "\n",
       "   gender                         homeworld  \\\n",
       "0    male  https://swapi.dev/api/planets/1/   \n",
       "1     n/a  https://swapi.dev/api/planets/1/   \n",
       "2     n/a  https://swapi.dev/api/planets/8/   \n",
       "3    male  https://swapi.dev/api/planets/1/   \n",
       "4  female  https://swapi.dev/api/planets/2/   \n",
       "\n",
       "                                               films  \\\n",
       "0  [https://swapi.dev/api/films/1/, https://swapi...   \n",
       "1  [https://swapi.dev/api/films/1/, https://swapi...   \n",
       "2  [https://swapi.dev/api/films/1/, https://swapi...   \n",
       "3  [https://swapi.dev/api/films/1/, https://swapi...   \n",
       "4  [https://swapi.dev/api/films/1/, https://swapi...   \n",
       "\n",
       "                              species  \\\n",
       "0                                  []   \n",
       "1  [https://swapi.dev/api/species/2/]   \n",
       "2  [https://swapi.dev/api/species/2/]   \n",
       "3                                  []   \n",
       "4                                  []   \n",
       "\n",
       "                                            vehicles  \\\n",
       "0  [https://swapi.dev/api/vehicles/14/, https://s...   \n",
       "1                                                 []   \n",
       "2                                                 []   \n",
       "3                                                 []   \n",
       "4               [https://swapi.dev/api/vehicles/30/]   \n",
       "\n",
       "                                           starships  \\\n",
       "0  [https://swapi.dev/api/starships/12/, https://...   \n",
       "1                                                 []   \n",
       "2                                                 []   \n",
       "3              [https://swapi.dev/api/starships/13/]   \n",
       "4                                                 []   \n",
       "\n",
       "                       created                       edited  \\\n",
       "0  2014-12-09T13:50:51.644000Z  2014-12-20T21:17:56.891000Z   \n",
       "1  2014-12-10T15:10:51.357000Z  2014-12-20T21:17:50.309000Z   \n",
       "2  2014-12-10T15:11:50.376000Z  2014-12-20T21:17:50.311000Z   \n",
       "3  2014-12-10T15:18:20.704000Z  2014-12-20T21:17:50.313000Z   \n",
       "4  2014-12-10T15:20:09.791000Z  2014-12-20T21:17:50.315000Z   \n",
       "\n",
       "                               url  \n",
       "0  https://swapi.dev/api/people/1/  \n",
       "1  https://swapi.dev/api/people/2/  \n",
       "2  https://swapi.dev/api/people/3/  \n",
       "3  https://swapi.dev/api/people/4/  \n",
       "4  https://swapi.dev/api/people/5/  "
      ]
     },
     "execution_count": 13,
     "metadata": {},
     "output_type": "execute_result"
    }
   ],
   "source": [
    "df = pd.DataFrame(data['results'])\n",
    "df.head()\n"
   ]
  },
  {
   "cell_type": "markdown",
   "id": "34d191f4",
   "metadata": {},
   "source": [
    "* Now that we've gotten the data from the first page, we can extract the data from the next page (as indicated by the API's response), and add it onto our dataframe:"
   ]
  },
  {
   "cell_type": "code",
   "execution_count": 14,
   "id": "1e73ca3c",
   "metadata": {},
   "outputs": [
    {
     "name": "stdout",
     "output_type": "stream",
     "text": [
      "number_of_people: 82\n",
      "next_page: https://swapi.dev/api/people/?page=3\n",
      "previous_page: https://swapi.dev/api/people/?page=1\n",
      "number_of_results: 10\n",
      "max_page: 9\n"
     ]
    }
   ],
   "source": [
    "response = requests.get(data['next'])\n",
    "data = response.json()\n",
    "\n",
    "number_of_people = data['count']\n",
    "next_page = data['next']\n",
    "previous_page = data['previous']\n",
    "number_of_results = len(data['results'])\n",
    "max_page = math.ceil(number_of_people / number_of_results)\n",
    "\n",
    "print(f'number_of_people: {number_of_people}')\n",
    "print(f'next_page: {next_page}')\n",
    "print(f'previous_page: {previous_page}')\n",
    "print(f'number_of_results: {number_of_results}')\n",
    "print(f'max_page: {max_page}')\n",
    "\n",
    "df = pd.concat([df, pd.DataFrame(data['results'])]).reset_index()"
   ]
  },
  {
   "cell_type": "markdown",
   "id": "1160d848",
   "metadata": {},
   "source": [
    "* We'll repeat the process one more time:"
   ]
  },
  {
   "cell_type": "code",
   "execution_count": 15,
   "id": "f1aadc47",
   "metadata": {},
   "outputs": [
    {
     "name": "stdout",
     "output_type": "stream",
     "text": [
      "number_of_people: 82\n",
      "next_page: https://swapi.dev/api/people/?page=4\n",
      "previous_page: https://swapi.dev/api/people/?page=2\n",
      "number_of_results: 10\n",
      "max_page: 9\n"
     ]
    }
   ],
   "source": [
    "response = requests.get(data['next'])\n",
    "data = response.json()\n",
    "\n",
    "number_of_people = data['count']\n",
    "next_page = data['next']\n",
    "previous_page = data['previous']\n",
    "number_of_results = len(data['results'])\n",
    "max_page = math.ceil(number_of_people / number_of_results)\n",
    "\n",
    "print(f'number_of_people: {number_of_people}')\n",
    "print(f'next_page: {next_page}')\n",
    "print(f'previous_page: {previous_page}')\n",
    "print(f'number_of_results: {number_of_results}')\n",
    "print(f'max_page: {max_page}')\n",
    "\n",
    "df = pd.concat([df, pd.DataFrame(data['results'])]).reset_index()\n"
   ]
  },
  {
   "cell_type": "markdown",
   "id": "edfc8de3",
   "metadata": {},
   "source": [
    "* Let's look ahead and see what the last page looks like."
   ]
  },
  {
   "cell_type": "code",
   "execution_count": 16,
   "id": "6d659c1e",
   "metadata": {},
   "outputs": [
    {
     "name": "stdout",
     "output_type": "stream",
     "text": [
      "number_of_people: 82\n",
      "next_page: None\n",
      "previous_page: https://swapi.dev/api/people/?page=8\n",
      "number_of_results: 2\n"
     ]
    }
   ],
   "source": [
    "url = 'https://swapi.dev/api/people/?page=9'\n",
    "response = requests.get(url)\n",
    "data = response.json()\n",
    "\n",
    "number_of_people = data['count']\n",
    "next_page = data['next']\n",
    "previous_page = data['previous']\n",
    "number_of_results = len(data['results'])\n",
    "\n",
    "print(f'number_of_people: {number_of_people}')\n",
    "print(f'next_page: {next_page}')\n",
    "print(f'previous_page: {previous_page}')\n",
    "print(f'number_of_results: {number_of_results}')\n",
    "\n"
   ]
  },
  {
   "cell_type": "markdown",
   "id": "57ae3c8b",
   "metadata": {},
   "source": [
    "* Now that the API says that the next_page is None, we know we can stop making requests, and assume that we have all of the people data.\n"
   ]
  },
  {
   "cell_type": "code",
   "execution_count": 17,
   "id": "6672b30a",
   "metadata": {},
   "outputs": [],
   "source": [
    "people = df"
   ]
  },
  {
   "cell_type": "code",
   "execution_count": 18,
   "id": "13419e64",
   "metadata": {},
   "outputs": [],
   "source": [
    "filename = \"people.csv\"\n",
    "people.to_csv(filename)"
   ]
  },
  {
   "cell_type": "markdown",
   "id": "ad01ae5d",
   "metadata": {},
   "source": [
    "# Exercise \n",
    "\n",
    "# Planets"
   ]
  },
  {
   "cell_type": "code",
   "execution_count": 19,
   "id": "1844991c",
   "metadata": {},
   "outputs": [
    {
     "name": "stdout",
     "output_type": "stream",
     "text": [
      "{\"name\":\"Dagobah\",\"rotation_period\":\"23\",\"orbital_period\":\"341\",\"diameter\":\"8900\",\"climate\":\"murky\",\"gravity\":\"N/A\",\"terrain\":\"swamp, jungles\",\"surface_water\":\"8\",\"population\":\"unknown\",\"residents\":[],\"films\":[\"https://swapi.dev/api/films/2/\",\"https://swapi.dev/api/films/3/\",\"https://swapi.dev/api/films/6/\"],\"created\":\"2014-12-10T11:42:22.590000Z\",\"edited\":\"2014-12-20T20:58:18.425000Z\",\"url\":\"https://swapi.dev/api/planets/5/\"}\n"
     ]
    }
   ],
   "source": [
    "url = 'https://swapi.dev/api/planets/5'\n",
    "response = requests.get(url)\n",
    "print(response.text)"
   ]
  },
  {
   "cell_type": "code",
   "execution_count": 20,
   "id": "a463a84a",
   "metadata": {},
   "outputs": [
    {
     "name": "stdout",
     "output_type": "stream",
     "text": [
      "<class 'dict'>\n"
     ]
    },
    {
     "data": {
      "text/plain": [
       "{'name': 'Dagobah',\n",
       " 'rotation_period': '23',\n",
       " 'orbital_period': '341',\n",
       " 'diameter': '8900',\n",
       " 'climate': 'murky',\n",
       " 'gravity': 'N/A',\n",
       " 'terrain': 'swamp, jungles',\n",
       " 'surface_water': '8',\n",
       " 'population': 'unknown',\n",
       " 'residents': [],\n",
       " 'films': ['https://swapi.dev/api/films/2/',\n",
       "  'https://swapi.dev/api/films/3/',\n",
       "  'https://swapi.dev/api/films/6/'],\n",
       " 'created': '2014-12-10T11:42:22.590000Z',\n",
       " 'edited': '2014-12-20T20:58:18.425000Z',\n",
       " 'url': 'https://swapi.dev/api/planets/5/'}"
      ]
     },
     "execution_count": 20,
     "metadata": {},
     "output_type": "execute_result"
    }
   ],
   "source": [
    "data = response.json()\n",
    "print(type(data))\n",
    "data"
   ]
  },
  {
   "cell_type": "code",
   "execution_count": 21,
   "id": "e314e884",
   "metadata": {},
   "outputs": [
    {
     "name": "stdout",
     "output_type": "stream",
     "text": [
      "<Response [200]>\n"
     ]
    },
    {
     "data": {
      "text/plain": [
       "{'people': 'https://swapi.dev/api/people/',\n",
       " 'planets': 'https://swapi.dev/api/planets/',\n",
       " 'films': 'https://swapi.dev/api/films/',\n",
       " 'species': 'https://swapi.dev/api/species/',\n",
       " 'vehicles': 'https://swapi.dev/api/vehicles/',\n",
       " 'starships': 'https://swapi.dev/api/starships/'}"
      ]
     },
     "execution_count": 21,
     "metadata": {},
     "output_type": "execute_result"
    }
   ],
   "source": [
    "root_url = 'https://swapi.dev/api/'\n",
    "response = requests.get(root_url)\n",
    "print(response)\n",
    "response.json()"
   ]
  },
  {
   "cell_type": "code",
   "execution_count": 22,
   "id": "822f7b96",
   "metadata": {},
   "outputs": [
    {
     "data": {
      "text/plain": [
       "dict_keys(['count', 'next', 'previous', 'results'])"
      ]
     },
     "execution_count": 22,
     "metadata": {},
     "output_type": "execute_result"
    }
   ],
   "source": [
    "response = requests.get('https://swapi.dev/api/planets/')\n",
    "data = response.json()\n",
    "data.keys()"
   ]
  },
  {
   "cell_type": "code",
   "execution_count": 23,
   "id": "447ee2d4",
   "metadata": {},
   "outputs": [
    {
     "name": "stdout",
     "output_type": "stream",
     "text": [
      "number_of_people: 60\n",
      "next_page: https://swapi.dev/api/planets/?page=2\n",
      "previous_page: None\n"
     ]
    }
   ],
   "source": [
    "number_of_planets = data['count']\n",
    "next_page = data['next']\n",
    "previous_page = data['previous']\n",
    "\n",
    "print(f'number_of_people: {number_of_planets}')\n",
    "print(f'next_page: {next_page}')\n",
    "print(f'previous_page: {previous_page}')"
   ]
  },
  {
   "cell_type": "code",
   "execution_count": 24,
   "id": "815a5693",
   "metadata": {},
   "outputs": [
    {
     "data": {
      "text/plain": [
       "[{'name': 'Tatooine',\n",
       "  'rotation_period': '23',\n",
       "  'orbital_period': '304',\n",
       "  'diameter': '10465',\n",
       "  'climate': 'arid',\n",
       "  'gravity': '1 standard',\n",
       "  'terrain': 'desert',\n",
       "  'surface_water': '1',\n",
       "  'population': '200000',\n",
       "  'residents': ['https://swapi.dev/api/people/1/',\n",
       "   'https://swapi.dev/api/people/2/',\n",
       "   'https://swapi.dev/api/people/4/',\n",
       "   'https://swapi.dev/api/people/6/',\n",
       "   'https://swapi.dev/api/people/7/',\n",
       "   'https://swapi.dev/api/people/8/',\n",
       "   'https://swapi.dev/api/people/9/',\n",
       "   'https://swapi.dev/api/people/11/',\n",
       "   'https://swapi.dev/api/people/43/',\n",
       "   'https://swapi.dev/api/people/62/'],\n",
       "  'films': ['https://swapi.dev/api/films/1/',\n",
       "   'https://swapi.dev/api/films/3/',\n",
       "   'https://swapi.dev/api/films/4/',\n",
       "   'https://swapi.dev/api/films/5/',\n",
       "   'https://swapi.dev/api/films/6/'],\n",
       "  'created': '2014-12-09T13:50:49.641000Z',\n",
       "  'edited': '2014-12-20T20:58:18.411000Z',\n",
       "  'url': 'https://swapi.dev/api/planets/1/'},\n",
       " {'name': 'Alderaan',\n",
       "  'rotation_period': '24',\n",
       "  'orbital_period': '364',\n",
       "  'diameter': '12500',\n",
       "  'climate': 'temperate',\n",
       "  'gravity': '1 standard',\n",
       "  'terrain': 'grasslands, mountains',\n",
       "  'surface_water': '40',\n",
       "  'population': '2000000000',\n",
       "  'residents': ['https://swapi.dev/api/people/5/',\n",
       "   'https://swapi.dev/api/people/68/',\n",
       "   'https://swapi.dev/api/people/81/'],\n",
       "  'films': ['https://swapi.dev/api/films/1/',\n",
       "   'https://swapi.dev/api/films/6/'],\n",
       "  'created': '2014-12-10T11:35:48.479000Z',\n",
       "  'edited': '2014-12-20T20:58:18.420000Z',\n",
       "  'url': 'https://swapi.dev/api/planets/2/'}]"
      ]
     },
     "execution_count": 24,
     "metadata": {},
     "output_type": "execute_result"
    }
   ],
   "source": [
    "data['results'][:2]"
   ]
  },
  {
   "cell_type": "code",
   "execution_count": 25,
   "id": "666e5712",
   "metadata": {},
   "outputs": [
    {
     "name": "stdout",
     "output_type": "stream",
     "text": [
      "number_of_results: 10\n",
      "max_page: 6\n"
     ]
    }
   ],
   "source": [
    "number_of_results = len(data['results'])\n",
    "max_page = math.ceil(number_of_planets / number_of_results)\n",
    "\n",
    "print(f'number_of_results: {number_of_results}')\n",
    "print(f'max_page: {max_page}')"
   ]
  },
  {
   "cell_type": "code",
   "execution_count": 26,
   "id": "7c329b9f",
   "metadata": {},
   "outputs": [
    {
     "data": {
      "text/html": [
       "<div>\n",
       "<style scoped>\n",
       "    .dataframe tbody tr th:only-of-type {\n",
       "        vertical-align: middle;\n",
       "    }\n",
       "\n",
       "    .dataframe tbody tr th {\n",
       "        vertical-align: top;\n",
       "    }\n",
       "\n",
       "    .dataframe thead th {\n",
       "        text-align: right;\n",
       "    }\n",
       "</style>\n",
       "<table border=\"1\" class=\"dataframe\">\n",
       "  <thead>\n",
       "    <tr style=\"text-align: right;\">\n",
       "      <th></th>\n",
       "      <th>name</th>\n",
       "      <th>rotation_period</th>\n",
       "      <th>orbital_period</th>\n",
       "      <th>diameter</th>\n",
       "      <th>climate</th>\n",
       "      <th>gravity</th>\n",
       "      <th>terrain</th>\n",
       "      <th>surface_water</th>\n",
       "      <th>population</th>\n",
       "      <th>residents</th>\n",
       "      <th>films</th>\n",
       "      <th>created</th>\n",
       "      <th>edited</th>\n",
       "      <th>url</th>\n",
       "    </tr>\n",
       "  </thead>\n",
       "  <tbody>\n",
       "    <tr>\n",
       "      <th>0</th>\n",
       "      <td>Tatooine</td>\n",
       "      <td>23</td>\n",
       "      <td>304</td>\n",
       "      <td>10465</td>\n",
       "      <td>arid</td>\n",
       "      <td>1 standard</td>\n",
       "      <td>desert</td>\n",
       "      <td>1</td>\n",
       "      <td>200000</td>\n",
       "      <td>[https://swapi.dev/api/people/1/, https://swap...</td>\n",
       "      <td>[https://swapi.dev/api/films/1/, https://swapi...</td>\n",
       "      <td>2014-12-09T13:50:49.641000Z</td>\n",
       "      <td>2014-12-20T20:58:18.411000Z</td>\n",
       "      <td>https://swapi.dev/api/planets/1/</td>\n",
       "    </tr>\n",
       "    <tr>\n",
       "      <th>1</th>\n",
       "      <td>Alderaan</td>\n",
       "      <td>24</td>\n",
       "      <td>364</td>\n",
       "      <td>12500</td>\n",
       "      <td>temperate</td>\n",
       "      <td>1 standard</td>\n",
       "      <td>grasslands, mountains</td>\n",
       "      <td>40</td>\n",
       "      <td>2000000000</td>\n",
       "      <td>[https://swapi.dev/api/people/5/, https://swap...</td>\n",
       "      <td>[https://swapi.dev/api/films/1/, https://swapi...</td>\n",
       "      <td>2014-12-10T11:35:48.479000Z</td>\n",
       "      <td>2014-12-20T20:58:18.420000Z</td>\n",
       "      <td>https://swapi.dev/api/planets/2/</td>\n",
       "    </tr>\n",
       "    <tr>\n",
       "      <th>2</th>\n",
       "      <td>Yavin IV</td>\n",
       "      <td>24</td>\n",
       "      <td>4818</td>\n",
       "      <td>10200</td>\n",
       "      <td>temperate, tropical</td>\n",
       "      <td>1 standard</td>\n",
       "      <td>jungle, rainforests</td>\n",
       "      <td>8</td>\n",
       "      <td>1000</td>\n",
       "      <td>[]</td>\n",
       "      <td>[https://swapi.dev/api/films/1/]</td>\n",
       "      <td>2014-12-10T11:37:19.144000Z</td>\n",
       "      <td>2014-12-20T20:58:18.421000Z</td>\n",
       "      <td>https://swapi.dev/api/planets/3/</td>\n",
       "    </tr>\n",
       "    <tr>\n",
       "      <th>3</th>\n",
       "      <td>Hoth</td>\n",
       "      <td>23</td>\n",
       "      <td>549</td>\n",
       "      <td>7200</td>\n",
       "      <td>frozen</td>\n",
       "      <td>1.1 standard</td>\n",
       "      <td>tundra, ice caves, mountain ranges</td>\n",
       "      <td>100</td>\n",
       "      <td>unknown</td>\n",
       "      <td>[]</td>\n",
       "      <td>[https://swapi.dev/api/films/2/]</td>\n",
       "      <td>2014-12-10T11:39:13.934000Z</td>\n",
       "      <td>2014-12-20T20:58:18.423000Z</td>\n",
       "      <td>https://swapi.dev/api/planets/4/</td>\n",
       "    </tr>\n",
       "    <tr>\n",
       "      <th>4</th>\n",
       "      <td>Dagobah</td>\n",
       "      <td>23</td>\n",
       "      <td>341</td>\n",
       "      <td>8900</td>\n",
       "      <td>murky</td>\n",
       "      <td>N/A</td>\n",
       "      <td>swamp, jungles</td>\n",
       "      <td>8</td>\n",
       "      <td>unknown</td>\n",
       "      <td>[]</td>\n",
       "      <td>[https://swapi.dev/api/films/2/, https://swapi...</td>\n",
       "      <td>2014-12-10T11:42:22.590000Z</td>\n",
       "      <td>2014-12-20T20:58:18.425000Z</td>\n",
       "      <td>https://swapi.dev/api/planets/5/</td>\n",
       "    </tr>\n",
       "  </tbody>\n",
       "</table>\n",
       "</div>"
      ],
      "text/plain": [
       "       name rotation_period orbital_period diameter              climate  \\\n",
       "0  Tatooine              23            304    10465                 arid   \n",
       "1  Alderaan              24            364    12500            temperate   \n",
       "2  Yavin IV              24           4818    10200  temperate, tropical   \n",
       "3      Hoth              23            549     7200               frozen   \n",
       "4   Dagobah              23            341     8900                murky   \n",
       "\n",
       "        gravity                             terrain surface_water  population  \\\n",
       "0    1 standard                              desert             1      200000   \n",
       "1    1 standard               grasslands, mountains            40  2000000000   \n",
       "2    1 standard                 jungle, rainforests             8        1000   \n",
       "3  1.1 standard  tundra, ice caves, mountain ranges           100     unknown   \n",
       "4           N/A                      swamp, jungles             8     unknown   \n",
       "\n",
       "                                           residents  \\\n",
       "0  [https://swapi.dev/api/people/1/, https://swap...   \n",
       "1  [https://swapi.dev/api/people/5/, https://swap...   \n",
       "2                                                 []   \n",
       "3                                                 []   \n",
       "4                                                 []   \n",
       "\n",
       "                                               films  \\\n",
       "0  [https://swapi.dev/api/films/1/, https://swapi...   \n",
       "1  [https://swapi.dev/api/films/1/, https://swapi...   \n",
       "2                   [https://swapi.dev/api/films/1/]   \n",
       "3                   [https://swapi.dev/api/films/2/]   \n",
       "4  [https://swapi.dev/api/films/2/, https://swapi...   \n",
       "\n",
       "                       created                       edited  \\\n",
       "0  2014-12-09T13:50:49.641000Z  2014-12-20T20:58:18.411000Z   \n",
       "1  2014-12-10T11:35:48.479000Z  2014-12-20T20:58:18.420000Z   \n",
       "2  2014-12-10T11:37:19.144000Z  2014-12-20T20:58:18.421000Z   \n",
       "3  2014-12-10T11:39:13.934000Z  2014-12-20T20:58:18.423000Z   \n",
       "4  2014-12-10T11:42:22.590000Z  2014-12-20T20:58:18.425000Z   \n",
       "\n",
       "                                url  \n",
       "0  https://swapi.dev/api/planets/1/  \n",
       "1  https://swapi.dev/api/planets/2/  \n",
       "2  https://swapi.dev/api/planets/3/  \n",
       "3  https://swapi.dev/api/planets/4/  \n",
       "4  https://swapi.dev/api/planets/5/  "
      ]
     },
     "execution_count": 26,
     "metadata": {},
     "output_type": "execute_result"
    }
   ],
   "source": [
    "df = pd.DataFrame(data['results'])\n",
    "df.head()"
   ]
  },
  {
   "cell_type": "code",
   "execution_count": 27,
   "id": "854fd478",
   "metadata": {},
   "outputs": [
    {
     "name": "stdout",
     "output_type": "stream",
     "text": [
      "number_of_people: 60\n",
      "next_page: https://swapi.dev/api/planets/?page=3\n",
      "previous_page: https://swapi.dev/api/planets/?page=1\n",
      "number_of_results: 10\n",
      "max_page: 6\n"
     ]
    }
   ],
   "source": [
    "response = requests.get(data['next'])\n",
    "data = response.json()\n",
    "\n",
    "number_of_planets = data['count']\n",
    "next_page = data['next']\n",
    "previous_page = data['previous']\n",
    "number_of_results = len(data['results'])\n",
    "max_page = math.ceil(number_of_planets / number_of_results)\n",
    "\n",
    "print(f'number_of_people: {number_of_planets}')\n",
    "print(f'next_page: {next_page}')\n",
    "print(f'previous_page: {previous_page}')\n",
    "print(f'number_of_results: {number_of_results}')\n",
    "print(f'max_page: {max_page}')\n",
    "\n",
    "df = pd.concat([df, pd.DataFrame(data['results'])]).reset_index()"
   ]
  },
  {
   "cell_type": "code",
   "execution_count": 28,
   "id": "27cc1f87",
   "metadata": {},
   "outputs": [
    {
     "name": "stdout",
     "output_type": "stream",
     "text": [
      "number_of_planets: 60\n",
      "next_page: https://swapi.dev/api/planets/?page=4\n",
      "previous_page: https://swapi.dev/api/planets/?page=2\n",
      "number_of_results: 10\n",
      "max_page: 6\n"
     ]
    }
   ],
   "source": [
    "response = requests.get(data['next'])\n",
    "data = response.json()\n",
    "\n",
    "number_of_planets = data['count']\n",
    "next_page = data['next']\n",
    "previous_page = data['previous']\n",
    "number_of_results = len(data['results'])\n",
    "max_page = math.ceil(number_of_planets / number_of_results)\n",
    "\n",
    "print(f'number_of_planets: {number_of_planets}')\n",
    "print(f'next_page: {next_page}')\n",
    "print(f'previous_page: {previous_page}')\n",
    "print(f'number_of_results: {number_of_results}')\n",
    "print(f'max_page: {max_page}')\n",
    "\n",
    "df = pd.concat([df, pd.DataFrame(data['results'])]).reset_index()"
   ]
  },
  {
   "cell_type": "code",
   "execution_count": 29,
   "id": "4fe95ecb",
   "metadata": {},
   "outputs": [
    {
     "name": "stdout",
     "output_type": "stream",
     "text": [
      "number_of_planets: 60\n",
      "next_page: https://swapi.dev/api/planets/?page=5\n",
      "previous_page: https://swapi.dev/api/planets/?page=3\n",
      "number_of_results: 10\n",
      "max_page: 6\n"
     ]
    }
   ],
   "source": [
    "response = requests.get(data['next'])\n",
    "data = response.json()\n",
    "\n",
    "number_of_planets = data['count']\n",
    "next_page = data['next']\n",
    "previous_page = data['previous']\n",
    "number_of_results = len(data['results'])\n",
    "max_page = math.ceil(number_of_planets / number_of_results)\n",
    "\n",
    "print(f'number_of_planets: {number_of_planets}')\n",
    "print(f'next_page: {next_page}')\n",
    "print(f'previous_page: {previous_page}')\n",
    "print(f'number_of_results: {number_of_results}')\n",
    "print(f'max_page: {max_page}')\n",
    "\n",
    "df = pd.concat([df, pd.DataFrame(data['results'])])"
   ]
  },
  {
   "cell_type": "code",
   "execution_count": 30,
   "id": "c6946db5",
   "metadata": {},
   "outputs": [
    {
     "name": "stdout",
     "output_type": "stream",
     "text": [
      "number_of_planets: 60\n",
      "next_page: https://swapi.dev/api/planets/?page=6\n",
      "previous_page: https://swapi.dev/api/planets/?page=4\n",
      "number_of_results: 10\n",
      "max_page: 6\n"
     ]
    }
   ],
   "source": [
    "response = requests.get(data['next'])\n",
    "data = response.json()\n",
    "\n",
    "number_of_planets = data['count']\n",
    "next_page = data['next']\n",
    "previous_page = data['previous']\n",
    "number_of_results = len(data['results'])\n",
    "max_page = math.ceil(number_of_planets / number_of_results)\n",
    "\n",
    "print(f'number_of_planets: {number_of_planets}')\n",
    "print(f'next_page: {next_page}')\n",
    "print(f'previous_page: {previous_page}')\n",
    "print(f'number_of_results: {number_of_results}')\n",
    "print(f'max_page: {max_page}')\n",
    "\n",
    "df = pd.concat([df, pd.DataFrame(data['results'])])"
   ]
  },
  {
   "cell_type": "code",
   "execution_count": 31,
   "id": "605e837a",
   "metadata": {},
   "outputs": [
    {
     "name": "stdout",
     "output_type": "stream",
     "text": [
      "number_of_planets: 60\n",
      "next_page: None\n",
      "previous_page: https://swapi.dev/api/planets/?page=5\n",
      "number_of_results: 10\n",
      "max_page: 6\n"
     ]
    }
   ],
   "source": [
    "response = requests.get(data['next'])\n",
    "data = response.json()\n",
    "\n",
    "number_of_planets = data['count']\n",
    "next_page = data['next']\n",
    "previous_page = data['previous']\n",
    "number_of_results = len(data['results'])\n",
    "max_page = math.ceil(number_of_planets / number_of_results)\n",
    "\n",
    "print(f'number_of_planets: {number_of_planets}')\n",
    "print(f'next_page: {next_page}')\n",
    "print(f'previous_page: {previous_page}')\n",
    "print(f'number_of_results: {number_of_results}')\n",
    "print(f'max_page: {max_page}')\n",
    "\n",
    "df = pd.concat([df, pd.DataFrame(data['results'])])"
   ]
  },
  {
   "cell_type": "code",
   "execution_count": 32,
   "id": "7366f81f",
   "metadata": {},
   "outputs": [],
   "source": [
    "planets = df"
   ]
  },
  {
   "cell_type": "code",
   "execution_count": 33,
   "id": "cdc9a764",
   "metadata": {},
   "outputs": [],
   "source": [
    "filename = \"planets.csv\"\n",
    "planets.to_csv(filename)"
   ]
  },
  {
   "cell_type": "markdown",
   "id": "e5de530f",
   "metadata": {},
   "source": [
    "# Starships"
   ]
  },
  {
   "cell_type": "code",
   "execution_count": 34,
   "id": "ada238f2",
   "metadata": {},
   "outputs": [
    {
     "name": "stdout",
     "output_type": "stream",
     "text": [
      "{\"name\":\"Sentinel-class landing craft\",\"model\":\"Sentinel-class landing craft\",\"manufacturer\":\"Sienar Fleet Systems, Cyngus Spaceworks\",\"cost_in_credits\":\"240000\",\"length\":\"38\",\"max_atmosphering_speed\":\"1000\",\"crew\":\"5\",\"passengers\":\"75\",\"cargo_capacity\":\"180000\",\"consumables\":\"1 month\",\"hyperdrive_rating\":\"1.0\",\"MGLT\":\"70\",\"starship_class\":\"landing craft\",\"pilots\":[],\"films\":[\"https://swapi.dev/api/films/1/\"],\"created\":\"2014-12-10T15:48:00.586000Z\",\"edited\":\"2014-12-20T21:23:49.873000Z\",\"url\":\"https://swapi.dev/api/starships/5/\"}\n"
     ]
    }
   ],
   "source": [
    "url = 'https://swapi.dev/api/starships/5'\n",
    "response = requests.get(url)\n",
    "print(response.text)"
   ]
  },
  {
   "cell_type": "code",
   "execution_count": 35,
   "id": "2d0e6998",
   "metadata": {},
   "outputs": [
    {
     "name": "stdout",
     "output_type": "stream",
     "text": [
      "<class 'dict'>\n"
     ]
    },
    {
     "data": {
      "text/plain": [
       "{'name': 'Sentinel-class landing craft',\n",
       " 'model': 'Sentinel-class landing craft',\n",
       " 'manufacturer': 'Sienar Fleet Systems, Cyngus Spaceworks',\n",
       " 'cost_in_credits': '240000',\n",
       " 'length': '38',\n",
       " 'max_atmosphering_speed': '1000',\n",
       " 'crew': '5',\n",
       " 'passengers': '75',\n",
       " 'cargo_capacity': '180000',\n",
       " 'consumables': '1 month',\n",
       " 'hyperdrive_rating': '1.0',\n",
       " 'MGLT': '70',\n",
       " 'starship_class': 'landing craft',\n",
       " 'pilots': [],\n",
       " 'films': ['https://swapi.dev/api/films/1/'],\n",
       " 'created': '2014-12-10T15:48:00.586000Z',\n",
       " 'edited': '2014-12-20T21:23:49.873000Z',\n",
       " 'url': 'https://swapi.dev/api/starships/5/'}"
      ]
     },
     "execution_count": 35,
     "metadata": {},
     "output_type": "execute_result"
    }
   ],
   "source": [
    "data = response.json()\n",
    "print(type(data))\n",
    "data"
   ]
  },
  {
   "cell_type": "code",
   "execution_count": 62,
   "id": "e125a27a",
   "metadata": {},
   "outputs": [
    {
     "name": "stdout",
     "output_type": "stream",
     "text": [
      "<Response [200]>\n"
     ]
    },
    {
     "data": {
      "text/plain": [
       "'https://swapi.dev/api/people/'"
      ]
     },
     "execution_count": 62,
     "metadata": {},
     "output_type": "execute_result"
    }
   ],
   "source": [
    "root_url = 'https://swapi.dev/api/'\n",
    "response = requests.get(root_url)\n",
    "print(response)\n",
    "response.json()\n",
    "home_content=response.json()\n"
   ]
  },
  {
   "cell_type": "code",
   "execution_count": null,
   "id": "0a579b03",
   "metadata": {},
   "outputs": [],
   "source": [
    "home_content['people']\n",
    "first_people_payload = requests.get(home_content['people'])\n"
   ]
  },
  {
   "cell_type": "code",
   "execution_count": 37,
   "id": "3a1e5f01",
   "metadata": {},
   "outputs": [
    {
     "data": {
      "text/plain": [
       "dict_keys(['count', 'next', 'previous', 'results'])"
      ]
     },
     "execution_count": 37,
     "metadata": {},
     "output_type": "execute_result"
    }
   ],
   "source": [
    "response = requests.get('https://swapi.dev/api/starships/')\n",
    "data = response.json()\n",
    "data.keys()"
   ]
  },
  {
   "cell_type": "code",
   "execution_count": 38,
   "id": "2c17cd67",
   "metadata": {},
   "outputs": [
    {
     "name": "stdout",
     "output_type": "stream",
     "text": [
      "number_of_starships: 36\n",
      "next_page: https://swapi.dev/api/starships/?page=2\n",
      "previous_page: None\n"
     ]
    }
   ],
   "source": [
    "number_of_starships = data['count']\n",
    "next_page = data['next']\n",
    "previous_page = data['previous']\n",
    "\n",
    "print(f'number_of_starships: {number_of_starships}')\n",
    "print(f'next_page: {next_page}')\n",
    "print(f'previous_page: {previous_page}')"
   ]
  },
  {
   "cell_type": "code",
   "execution_count": 39,
   "id": "3f95f3cb",
   "metadata": {},
   "outputs": [
    {
     "data": {
      "text/plain": [
       "[{'name': 'CR90 corvette',\n",
       "  'model': 'CR90 corvette',\n",
       "  'manufacturer': 'Corellian Engineering Corporation',\n",
       "  'cost_in_credits': '3500000',\n",
       "  'length': '150',\n",
       "  'max_atmosphering_speed': '950',\n",
       "  'crew': '30-165',\n",
       "  'passengers': '600',\n",
       "  'cargo_capacity': '3000000',\n",
       "  'consumables': '1 year',\n",
       "  'hyperdrive_rating': '2.0',\n",
       "  'MGLT': '60',\n",
       "  'starship_class': 'corvette',\n",
       "  'pilots': [],\n",
       "  'films': ['https://swapi.dev/api/films/1/',\n",
       "   'https://swapi.dev/api/films/3/',\n",
       "   'https://swapi.dev/api/films/6/'],\n",
       "  'created': '2014-12-10T14:20:33.369000Z',\n",
       "  'edited': '2014-12-20T21:23:49.867000Z',\n",
       "  'url': 'https://swapi.dev/api/starships/2/'},\n",
       " {'name': 'Star Destroyer',\n",
       "  'model': 'Imperial I-class Star Destroyer',\n",
       "  'manufacturer': 'Kuat Drive Yards',\n",
       "  'cost_in_credits': '150000000',\n",
       "  'length': '1,600',\n",
       "  'max_atmosphering_speed': '975',\n",
       "  'crew': '47,060',\n",
       "  'passengers': 'n/a',\n",
       "  'cargo_capacity': '36000000',\n",
       "  'consumables': '2 years',\n",
       "  'hyperdrive_rating': '2.0',\n",
       "  'MGLT': '60',\n",
       "  'starship_class': 'Star Destroyer',\n",
       "  'pilots': [],\n",
       "  'films': ['https://swapi.dev/api/films/1/',\n",
       "   'https://swapi.dev/api/films/2/',\n",
       "   'https://swapi.dev/api/films/3/'],\n",
       "  'created': '2014-12-10T15:08:19.848000Z',\n",
       "  'edited': '2014-12-20T21:23:49.870000Z',\n",
       "  'url': 'https://swapi.dev/api/starships/3/'}]"
      ]
     },
     "execution_count": 39,
     "metadata": {},
     "output_type": "execute_result"
    }
   ],
   "source": [
    "data['results'][:2]"
   ]
  },
  {
   "cell_type": "code",
   "execution_count": 40,
   "id": "933843a8",
   "metadata": {},
   "outputs": [
    {
     "name": "stdout",
     "output_type": "stream",
     "text": [
      "number_of_results: 10\n",
      "max_page: 4\n"
     ]
    }
   ],
   "source": [
    "number_of_results = len(data['results'])\n",
    "max_page = math.ceil(number_of_starships / number_of_results)\n",
    "\n",
    "print(f'number_of_results: {number_of_results}')\n",
    "print(f'max_page: {max_page}')"
   ]
  },
  {
   "cell_type": "code",
   "execution_count": 41,
   "id": "573713b0",
   "metadata": {},
   "outputs": [
    {
     "data": {
      "text/html": [
       "<div>\n",
       "<style scoped>\n",
       "    .dataframe tbody tr th:only-of-type {\n",
       "        vertical-align: middle;\n",
       "    }\n",
       "\n",
       "    .dataframe tbody tr th {\n",
       "        vertical-align: top;\n",
       "    }\n",
       "\n",
       "    .dataframe thead th {\n",
       "        text-align: right;\n",
       "    }\n",
       "</style>\n",
       "<table border=\"1\" class=\"dataframe\">\n",
       "  <thead>\n",
       "    <tr style=\"text-align: right;\">\n",
       "      <th></th>\n",
       "      <th>name</th>\n",
       "      <th>model</th>\n",
       "      <th>manufacturer</th>\n",
       "      <th>cost_in_credits</th>\n",
       "      <th>length</th>\n",
       "      <th>max_atmosphering_speed</th>\n",
       "      <th>crew</th>\n",
       "      <th>passengers</th>\n",
       "      <th>cargo_capacity</th>\n",
       "      <th>consumables</th>\n",
       "      <th>hyperdrive_rating</th>\n",
       "      <th>MGLT</th>\n",
       "      <th>starship_class</th>\n",
       "      <th>pilots</th>\n",
       "      <th>films</th>\n",
       "      <th>created</th>\n",
       "      <th>edited</th>\n",
       "      <th>url</th>\n",
       "    </tr>\n",
       "  </thead>\n",
       "  <tbody>\n",
       "    <tr>\n",
       "      <th>0</th>\n",
       "      <td>CR90 corvette</td>\n",
       "      <td>CR90 corvette</td>\n",
       "      <td>Corellian Engineering Corporation</td>\n",
       "      <td>3500000</td>\n",
       "      <td>150</td>\n",
       "      <td>950</td>\n",
       "      <td>30-165</td>\n",
       "      <td>600</td>\n",
       "      <td>3000000</td>\n",
       "      <td>1 year</td>\n",
       "      <td>2.0</td>\n",
       "      <td>60</td>\n",
       "      <td>corvette</td>\n",
       "      <td>[]</td>\n",
       "      <td>[https://swapi.dev/api/films/1/, https://swapi...</td>\n",
       "      <td>2014-12-10T14:20:33.369000Z</td>\n",
       "      <td>2014-12-20T21:23:49.867000Z</td>\n",
       "      <td>https://swapi.dev/api/starships/2/</td>\n",
       "    </tr>\n",
       "    <tr>\n",
       "      <th>1</th>\n",
       "      <td>Star Destroyer</td>\n",
       "      <td>Imperial I-class Star Destroyer</td>\n",
       "      <td>Kuat Drive Yards</td>\n",
       "      <td>150000000</td>\n",
       "      <td>1,600</td>\n",
       "      <td>975</td>\n",
       "      <td>47,060</td>\n",
       "      <td>n/a</td>\n",
       "      <td>36000000</td>\n",
       "      <td>2 years</td>\n",
       "      <td>2.0</td>\n",
       "      <td>60</td>\n",
       "      <td>Star Destroyer</td>\n",
       "      <td>[]</td>\n",
       "      <td>[https://swapi.dev/api/films/1/, https://swapi...</td>\n",
       "      <td>2014-12-10T15:08:19.848000Z</td>\n",
       "      <td>2014-12-20T21:23:49.870000Z</td>\n",
       "      <td>https://swapi.dev/api/starships/3/</td>\n",
       "    </tr>\n",
       "    <tr>\n",
       "      <th>2</th>\n",
       "      <td>Sentinel-class landing craft</td>\n",
       "      <td>Sentinel-class landing craft</td>\n",
       "      <td>Sienar Fleet Systems, Cyngus Spaceworks</td>\n",
       "      <td>240000</td>\n",
       "      <td>38</td>\n",
       "      <td>1000</td>\n",
       "      <td>5</td>\n",
       "      <td>75</td>\n",
       "      <td>180000</td>\n",
       "      <td>1 month</td>\n",
       "      <td>1.0</td>\n",
       "      <td>70</td>\n",
       "      <td>landing craft</td>\n",
       "      <td>[]</td>\n",
       "      <td>[https://swapi.dev/api/films/1/]</td>\n",
       "      <td>2014-12-10T15:48:00.586000Z</td>\n",
       "      <td>2014-12-20T21:23:49.873000Z</td>\n",
       "      <td>https://swapi.dev/api/starships/5/</td>\n",
       "    </tr>\n",
       "    <tr>\n",
       "      <th>3</th>\n",
       "      <td>Death Star</td>\n",
       "      <td>DS-1 Orbital Battle Station</td>\n",
       "      <td>Imperial Department of Military Research, Sien...</td>\n",
       "      <td>1000000000000</td>\n",
       "      <td>120000</td>\n",
       "      <td>n/a</td>\n",
       "      <td>342,953</td>\n",
       "      <td>843,342</td>\n",
       "      <td>1000000000000</td>\n",
       "      <td>3 years</td>\n",
       "      <td>4.0</td>\n",
       "      <td>10</td>\n",
       "      <td>Deep Space Mobile Battlestation</td>\n",
       "      <td>[]</td>\n",
       "      <td>[https://swapi.dev/api/films/1/]</td>\n",
       "      <td>2014-12-10T16:36:50.509000Z</td>\n",
       "      <td>2014-12-20T21:26:24.783000Z</td>\n",
       "      <td>https://swapi.dev/api/starships/9/</td>\n",
       "    </tr>\n",
       "    <tr>\n",
       "      <th>4</th>\n",
       "      <td>Millennium Falcon</td>\n",
       "      <td>YT-1300 light freighter</td>\n",
       "      <td>Corellian Engineering Corporation</td>\n",
       "      <td>100000</td>\n",
       "      <td>34.37</td>\n",
       "      <td>1050</td>\n",
       "      <td>4</td>\n",
       "      <td>6</td>\n",
       "      <td>100000</td>\n",
       "      <td>2 months</td>\n",
       "      <td>0.5</td>\n",
       "      <td>75</td>\n",
       "      <td>Light freighter</td>\n",
       "      <td>[https://swapi.dev/api/people/13/, https://swa...</td>\n",
       "      <td>[https://swapi.dev/api/films/1/, https://swapi...</td>\n",
       "      <td>2014-12-10T16:59:45.094000Z</td>\n",
       "      <td>2014-12-20T21:23:49.880000Z</td>\n",
       "      <td>https://swapi.dev/api/starships/10/</td>\n",
       "    </tr>\n",
       "  </tbody>\n",
       "</table>\n",
       "</div>"
      ],
      "text/plain": [
       "                           name                            model  \\\n",
       "0                 CR90 corvette                    CR90 corvette   \n",
       "1                Star Destroyer  Imperial I-class Star Destroyer   \n",
       "2  Sentinel-class landing craft     Sentinel-class landing craft   \n",
       "3                    Death Star      DS-1 Orbital Battle Station   \n",
       "4             Millennium Falcon          YT-1300 light freighter   \n",
       "\n",
       "                                        manufacturer cost_in_credits  length  \\\n",
       "0                  Corellian Engineering Corporation         3500000     150   \n",
       "1                                   Kuat Drive Yards       150000000   1,600   \n",
       "2            Sienar Fleet Systems, Cyngus Spaceworks          240000      38   \n",
       "3  Imperial Department of Military Research, Sien...   1000000000000  120000   \n",
       "4                  Corellian Engineering Corporation          100000   34.37   \n",
       "\n",
       "  max_atmosphering_speed     crew passengers cargo_capacity consumables  \\\n",
       "0                    950   30-165        600        3000000      1 year   \n",
       "1                    975   47,060        n/a       36000000     2 years   \n",
       "2                   1000        5         75         180000     1 month   \n",
       "3                    n/a  342,953    843,342  1000000000000     3 years   \n",
       "4                   1050        4          6         100000    2 months   \n",
       "\n",
       "  hyperdrive_rating MGLT                   starship_class  \\\n",
       "0               2.0   60                         corvette   \n",
       "1               2.0   60                   Star Destroyer   \n",
       "2               1.0   70                    landing craft   \n",
       "3               4.0   10  Deep Space Mobile Battlestation   \n",
       "4               0.5   75                  Light freighter   \n",
       "\n",
       "                                              pilots  \\\n",
       "0                                                 []   \n",
       "1                                                 []   \n",
       "2                                                 []   \n",
       "3                                                 []   \n",
       "4  [https://swapi.dev/api/people/13/, https://swa...   \n",
       "\n",
       "                                               films  \\\n",
       "0  [https://swapi.dev/api/films/1/, https://swapi...   \n",
       "1  [https://swapi.dev/api/films/1/, https://swapi...   \n",
       "2                   [https://swapi.dev/api/films/1/]   \n",
       "3                   [https://swapi.dev/api/films/1/]   \n",
       "4  [https://swapi.dev/api/films/1/, https://swapi...   \n",
       "\n",
       "                       created                       edited  \\\n",
       "0  2014-12-10T14:20:33.369000Z  2014-12-20T21:23:49.867000Z   \n",
       "1  2014-12-10T15:08:19.848000Z  2014-12-20T21:23:49.870000Z   \n",
       "2  2014-12-10T15:48:00.586000Z  2014-12-20T21:23:49.873000Z   \n",
       "3  2014-12-10T16:36:50.509000Z  2014-12-20T21:26:24.783000Z   \n",
       "4  2014-12-10T16:59:45.094000Z  2014-12-20T21:23:49.880000Z   \n",
       "\n",
       "                                   url  \n",
       "0   https://swapi.dev/api/starships/2/  \n",
       "1   https://swapi.dev/api/starships/3/  \n",
       "2   https://swapi.dev/api/starships/5/  \n",
       "3   https://swapi.dev/api/starships/9/  \n",
       "4  https://swapi.dev/api/starships/10/  "
      ]
     },
     "execution_count": 41,
     "metadata": {},
     "output_type": "execute_result"
    }
   ],
   "source": [
    "df = pd.DataFrame(data['results'])\n",
    "df.head()"
   ]
  },
  {
   "cell_type": "code",
   "execution_count": 42,
   "id": "8a26cb7b",
   "metadata": {},
   "outputs": [
    {
     "name": "stdout",
     "output_type": "stream",
     "text": [
      "number_of_starships: 36\n",
      "next_page: https://swapi.dev/api/starships/?page=3\n",
      "previous_page: https://swapi.dev/api/starships/?page=1\n",
      "number_of_results: 10\n",
      "max_page: 4\n"
     ]
    }
   ],
   "source": [
    "response = requests.get(data['next'])\n",
    "data = response.json()\n",
    "\n",
    "number_of_starships = data['count']\n",
    "next_page = data['next']\n",
    "previous_page = data['previous']\n",
    "number_of_results = len(data['results'])\n",
    "max_page = math.ceil(number_of_starships / number_of_results)\n",
    "\n",
    "print(f'number_of_starships: {number_of_starships}')\n",
    "print(f'next_page: {next_page}')\n",
    "print(f'previous_page: {previous_page}')\n",
    "print(f'number_of_results: {number_of_results}')\n",
    "print(f'max_page: {max_page}')\n",
    "\n",
    "df = pd.concat([df, pd.DataFrame(data['results'])]).reset_index()"
   ]
  },
  {
   "cell_type": "code",
   "execution_count": 43,
   "id": "3a0c8712",
   "metadata": {},
   "outputs": [
    {
     "name": "stdout",
     "output_type": "stream",
     "text": [
      "number_of_starships: 36\n",
      "next_page: https://swapi.dev/api/starships/?page=4\n",
      "previous_page: https://swapi.dev/api/starships/?page=2\n",
      "number_of_results: 10\n",
      "max_page: 4\n"
     ]
    }
   ],
   "source": [
    "response = requests.get(data['next'])\n",
    "data = response.json()\n",
    "\n",
    "number_of_starships = data['count']\n",
    "next_page = data['next']\n",
    "previous_page = data['previous']\n",
    "number_of_results = len(data['results'])\n",
    "max_page = math.ceil(number_of_starships / number_of_results)\n",
    "\n",
    "print(f'number_of_starships: {number_of_starships}')\n",
    "print(f'next_page: {next_page}')\n",
    "print(f'previous_page: {previous_page}')\n",
    "print(f'number_of_results: {number_of_results}')\n",
    "print(f'max_page: {max_page}')\n",
    "\n",
    "df = pd.concat([df, pd.DataFrame(data['results'])]).reset_index()"
   ]
  },
  {
   "cell_type": "code",
   "execution_count": 44,
   "id": "1d014a79",
   "metadata": {},
   "outputs": [
    {
     "name": "stdout",
     "output_type": "stream",
     "text": [
      "number_of_starships: 36\n",
      "next_page: None\n",
      "previous_page: https://swapi.dev/api/starships/?page=3\n",
      "number_of_results: 6\n",
      "max_page: 6\n"
     ]
    }
   ],
   "source": [
    "response = requests.get(data['next'])\n",
    "data = response.json()\n",
    "\n",
    "number_of_starships = data['count']\n",
    "next_page = data['next']\n",
    "previous_page = data['previous']\n",
    "number_of_results = len(data['results'])\n",
    "max_page = math.ceil(number_of_starships / number_of_results)\n",
    "\n",
    "print(f'number_of_starships: {number_of_starships}')\n",
    "print(f'next_page: {next_page}')\n",
    "print(f'previous_page: {previous_page}')\n",
    "print(f'number_of_results: {number_of_results}')\n",
    "print(f'max_page: {max_page}')\n",
    "\n",
    "df = pd.concat([df, pd.DataFrame(data['results'])])"
   ]
  },
  {
   "cell_type": "code",
   "execution_count": 45,
   "id": "fd70ae73",
   "metadata": {},
   "outputs": [],
   "source": [
    "starships = df"
   ]
  },
  {
   "cell_type": "code",
   "execution_count": 46,
   "id": "71c8f08b",
   "metadata": {},
   "outputs": [],
   "source": [
    "filename = \"starships.csv\"\n",
    "starships.to_csv(filename)"
   ]
  },
  {
   "cell_type": "code",
   "execution_count": 47,
   "id": "7c846f99",
   "metadata": {},
   "outputs": [],
   "source": [
    "starships = starships.rename(columns={\"name\": \"starship_name\", \"films\" :\"s_films\", \n",
    "                          \"created\":\"s_created\",\"edited\":\"s_edited\",\"url\":\"s_url\"})"
   ]
  },
  {
   "cell_type": "code",
   "execution_count": 48,
   "id": "10d8331a",
   "metadata": {},
   "outputs": [],
   "source": [
    "people = people.rename(columns={\"name\": \"people_name\", \"films\" :\"people_films\", \n",
    "                          \"created\":\"people_created\",\"edited\":\"people_edited\",\"url\":\"people_url\"})"
   ]
  },
  {
   "cell_type": "code",
   "execution_count": 49,
   "id": "88ea42b0",
   "metadata": {},
   "outputs": [],
   "source": [
    "planets = planets.rename(columns={\"name\": \"planet_name\", \"films\" :\"planet_films\", \n",
    "                          \"created\":\"planet_created\",\"edited\":\"planet_edited\",\"url\":\"planet_url\"})"
   ]
  },
  {
   "cell_type": "code",
   "execution_count": 50,
   "id": "e3934ba3",
   "metadata": {},
   "outputs": [
    {
     "data": {
      "text/plain": [
       "(60, 16)"
      ]
     },
     "execution_count": 50,
     "metadata": {},
     "output_type": "execute_result"
    }
   ],
   "source": [
    "planets.shape"
   ]
  },
  {
   "cell_type": "code",
   "execution_count": 51,
   "id": "29217608",
   "metadata": {},
   "outputs": [
    {
     "data": {
      "text/plain": [
       "(30, 18)"
      ]
     },
     "execution_count": 51,
     "metadata": {},
     "output_type": "execute_result"
    }
   ],
   "source": [
    "people.shape"
   ]
  },
  {
   "cell_type": "code",
   "execution_count": 52,
   "id": "19cee535",
   "metadata": {},
   "outputs": [
    {
     "data": {
      "text/plain": [
       "(36, 20)"
      ]
     },
     "execution_count": 52,
     "metadata": {},
     "output_type": "execute_result"
    }
   ],
   "source": [
    "starships.shape"
   ]
  },
  {
   "cell_type": "code",
   "execution_count": 53,
   "id": "d92d70dd",
   "metadata": {},
   "outputs": [],
   "source": [
    "horizontal_concat = pd.concat([people, starships, planets])"
   ]
  },
  {
   "cell_type": "code",
   "execution_count": 54,
   "id": "d2e9b00f",
   "metadata": {},
   "outputs": [],
   "source": [
    "df = horizontal_concat"
   ]
  },
  {
   "cell_type": "code",
   "execution_count": 55,
   "id": "ea6a6a95",
   "metadata": {},
   "outputs": [
    {
     "data": {
      "text/plain": [
       "0           NaN\n",
       "1           NaN\n",
       "2           NaN\n",
       "3           NaN\n",
       "4           NaN\n",
       "        ...    \n",
       "5         Skako\n",
       "6    Muunilinst\n",
       "7         Shili\n",
       "8         Kalee\n",
       "9        Umbara\n",
       "Name: planet_name, Length: 126, dtype: object"
      ]
     },
     "execution_count": 55,
     "metadata": {},
     "output_type": "execute_result"
    }
   ],
   "source": [
    "df.planet_name"
   ]
  },
  {
   "cell_type": "code",
   "execution_count": 56,
   "id": "4dae3075",
   "metadata": {},
   "outputs": [],
   "source": [
    "filename = 'merged_starwars.csv'\n",
    "df.to_csv(filename)"
   ]
  },
  {
   "cell_type": "code",
   "execution_count": null,
   "id": "203fd0b0",
   "metadata": {},
   "outputs": [],
   "source": []
  },
  {
   "cell_type": "code",
   "execution_count": null,
   "id": "fb33a6dc",
   "metadata": {},
   "outputs": [],
   "source": []
  },
  {
   "cell_type": "code",
   "execution_count": null,
   "id": "5505b03e",
   "metadata": {},
   "outputs": [],
   "source": []
  }
 ],
 "metadata": {
  "kernelspec": {
   "display_name": "Python 3 (ipykernel)",
   "language": "python",
   "name": "python3"
  },
  "language_info": {
   "codemirror_mode": {
    "name": "ipython",
    "version": 3
   },
   "file_extension": ".py",
   "mimetype": "text/x-python",
   "name": "python",
   "nbconvert_exporter": "python",
   "pygments_lexer": "ipython3",
   "version": "3.9.13"
  }
 },
 "nbformat": 4,
 "nbformat_minor": 5
}
